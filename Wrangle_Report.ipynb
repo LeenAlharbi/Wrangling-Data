{
 "cells": [
  {
   "cell_type": "markdown",
   "metadata": {},
   "source": [
    "#  Wrangle Report"
   ]
  },
  {
   "cell_type": "markdown",
   "metadata": {},
   "source": [
    "### The dataset we analyzed was from three different sources which are:\n",
    "#### 1- twitter-archive-enhanced\n",
    "#### 2- image-predictions\n",
    "#### 3- tweet_json.txt\n",
    "### And since it is from several sources, of course it requires a lot of effort and time in cleaning and coordinating it so that we can analyze it afterwards.\n",
    "### In this project, we went through the following stages:"
   ]
  },
  {
   "cell_type": "markdown",
   "metadata": {},
   "source": [
    "### First stage:\n",
    "**Import data from our three main sources, read it and determine quality issues and Tidiness issues which is are :**\n",
    "\n",
    "\n",
    "### Twitter archive : \n",
    " ### Data quality issues:\n",
    "​\n",
    " **1- There is missing data in the \"in_reply_to_status_id\", \"in_reply_to_user_id\", \"ret_status_id\", \"retweet_status_user_id\", \"ret_status_timestamp\" and \"expand_urls\" columns**\n",
    "​\n",
    "**2- There are some columns that will not help me in the analysis**\n",
    "​\n",
    " **3- The source column must be reformatted**\n",
    " \n",
    " **4- There is values of \"None\" in the name column.**\n",
    " \n",
    " **5- Numerator with Denominator values is incorrect.**\n",
    "​\n",
    "​\n",
    "​\n",
    " ### Tidiness issues:\n",
    "**1- All columns [doggo / floofer / pupper / puppo] must be merge into one column to be classified.**\n",
    "​\n",
    "**2- We want to add a new column containing the gender classification.**\n",
    "​\n",
    "### Image predictions\n",
    "​\n",
    " ### Data quality issues:\n",
    " **1- There is duplicate data in the jpg_url column.**\n",
    "​\n",
    "**2- There are some columns that will not help me in the analysis.**\n",
    "​\n",
    "​\n",
    "  ### Tidiness issues:\n",
    " **1- We have to change the columns type (p1, p2 and p3) to categoral datatype.**\n",
    "​\n",
    "### tweet_json.txt\n",
    " ### Data quality issues:\n",
    "​\n",
    " **1- There is missing data in the columns:'in_reply_to_status_id', 'in_reply_to_status_id_str', 'in_reply_to_user_id',\n",
    " 'in_reply_to_user_id_str', 'in_reply_to_screen_name', 'geo','coordinates','place','contributors','retweeted_status',\n",
    " 'quoted_status_id','quoted_status_id_str','quoted_status','possibly_sensitive',\n",
    " 'lang','possibly_sensitive_appealable','is_quote_status','favorited','retweeted',\n",
    " 'display_text_range','truncated','extended_entities','entities','user','entities','extended_entities'**\n",
    "​\n",
    "**2- user_favourites looks incorrect**\n",
    "​\n",
    "**3- The 'source' column needs to be reformatted**\n",
    "​\n",
    "**4- There are some columns that will not help me in the analysis**\n",
    "​\n",
    " \n",
    " ### Tidiness issues:\n",
    "**1) we need to change the name of column (id) to (tweet_id)**\n",
    "​\n",
    "## Total Issues that we discovered:\n",
    "\n",
    "### - 11 Data quality issues\n",
    "### - 4 Tidiness issues"
   ]
  },
  {
   "cell_type": "markdown",
   "metadata": {},
   "source": [
    "### Second stage:\n",
    "**At this stage we deleted the missing values and columns that we will not need, and modified some of the data such as fixing the denominator and numerator columns, and modifying and merge all columns [doggo / floofer / pupper / puppo] to be into one column to be classified، We have also created a new column containing the classification of dogs: male, female.**\n"
   ]
  },
  {
   "cell_type": "markdown",
   "metadata": {},
   "source": [
    "### The third stage :\n",
    "**We saved all the files after cleaning them and merged them into one file, which we named:(df_master), After that, we had reached the goal of our analysis and answered the questions we asked and visualized them graphically.**"
   ]
  }
 ],
 "metadata": {
  "kernelspec": {
   "display_name": "Python 3",
   "language": "python",
   "name": "python3"
  },
  "language_info": {
   "codemirror_mode": {
    "name": "ipython",
    "version": 3
   },
   "file_extension": ".py",
   "mimetype": "text/x-python",
   "name": "python",
   "nbconvert_exporter": "python",
   "pygments_lexer": "ipython3",
   "version": "3.8.3"
  }
 },
 "nbformat": 4,
 "nbformat_minor": 4
}
