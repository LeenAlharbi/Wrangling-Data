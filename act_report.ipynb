{
 "cells": [
  {
   "cell_type": "markdown",
   "metadata": {},
   "source": [
    "# wrangling data report"
   ]
  },
  {
   "cell_type": "markdown",
   "metadata": {},
   "source": [
    "### The dataset that we're going to be working on is WeRateDogs Twitter account. WeRateDogs is a Twitter account that rates people's dogs with a humorous comment about the dog. \n",
    "### In this project the three data sources were:\n",
    "#### 1- twitter-archive-enhanced\n",
    "#### 2- image-predictions\n",
    "#### 3- tweet_json.txt\n",
    "\n"
   ]
  },
  {
   "cell_type": "markdown",
   "metadata": {},
   "source": [
    "### wrangling data: \n",
    "### Here are some of the analyzes we came up with during the data wrangling\n"
   ]
  },
  {
   "cell_type": "markdown",
   "metadata": {},
   "source": [
    "### insight 1: "
   ]
  },
  {
   "cell_type": "markdown",
   "metadata": {},
   "source": [
    "![](11.png)"
   ]
  },
  {
   "cell_type": "markdown",
   "metadata": {},
   "source": [
    "#### As we can see in this pie chart, after we calculated the number of existing breeds and counted them, we find that they are 4 dogs breeds, and the most common breed mentioned in the dataset is: pupper with 61% , then is doggo with 26.5% , puppo with 9.8% and the last is floofer with 2%."
   ]
  },
  {
   "cell_type": "markdown",
   "metadata": {},
   "source": [
    "### Insight 2:"
   ]
  },
  {
   "cell_type": "markdown",
   "metadata": {},
   "source": [
    "![](2.png)"
   ]
  },
  {
   "cell_type": "markdown",
   "metadata": {},
   "source": [
    "### Here in this graph, we observe the relationship of the count of favorites with the count of retweets, although there is a big positive correlation between the retweets and favorites, we see that the density of points is greater when the number of preferences is more than the number of retweets. Therefore, So there are a lot of tweets that have more favorites than Retweets like the following picture:"
   ]
  },
  {
   "cell_type": "markdown",
   "metadata": {},
   "source": [
    "![](dogs.png)"
   ]
  },
  {
   "cell_type": "markdown",
   "metadata": {},
   "source": [
    "### Insight 3:"
   ]
  },
  {
   "cell_type": "markdown",
   "metadata": {},
   "source": [
    "![](3.png)"
   ]
  },
  {
   "cell_type": "markdown",
   "metadata": {},
   "source": [
    "#### In this graph, we see the number of females compared to males, and as it appears that the proportion of males is the highest, and we conclude from this that male dogs are more common and the most willing to adopt."
   ]
  }
 ],
 "metadata": {
  "kernelspec": {
   "display_name": "Python 3",
   "language": "python",
   "name": "python3"
  },
  "language_info": {
   "codemirror_mode": {
    "name": "ipython",
    "version": 3
   },
   "file_extension": ".py",
   "mimetype": "text/x-python",
   "name": "python",
   "nbconvert_exporter": "python",
   "pygments_lexer": "ipython3",
   "version": "3.8.3"
  }
 },
 "nbformat": 4,
 "nbformat_minor": 4
}
